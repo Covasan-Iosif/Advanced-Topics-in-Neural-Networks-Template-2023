{
 "cells": [
  {
   "cell_type": "markdown",
   "metadata": {},
   "source": [
    "<a href=\"https://colab.research.google.com/github/Covasan-Iosif/Advanced-Topics-in-Neural-Networks-Template-2023/blob/main/Lab06/OptimizationRelatedMisc.ipynb\" target=\"_parent\"><img src=\"https://colab.research.google.com/assets/colab-badge.svg\" alt=\"Open In Colab\"/></a>"
   ]
  },
  {
   "cell_type": "code",
   "execution_count": 4,
   "metadata": {},
   "outputs": [
    {
     "name": "stdout",
     "output_type": "stream",
     "text": [
      "torch.Size([1, 3, 10, 12])\n"
     ]
    }
   ],
   "source": [
    "import torch\n",
    "# Testing the custom Conv2D layer\n",
    "inp = torch.randn(1, 3, 10, 12)  # Input image\n",
    "w = torch.randn(2, 3, 4, 5)  # Conv weights\n",
    "\n",
    "print(inp.shape)"
   ]
  }
 ],
 "metadata": {
  "kernelspec": {
   "display_name": "atnn2",
   "language": "python",
   "name": "python3"
  },
  "language_info": {
   "codemirror_mode": {
    "name": "ipython",
    "version": 3
   },
   "file_extension": ".py",
   "mimetype": "text/x-python",
   "name": "python",
   "nbconvert_exporter": "python",
   "pygments_lexer": "ipython3",
   "version": "3.11.6"
  }
 },
 "nbformat": 4,
 "nbformat_minor": 2
}
