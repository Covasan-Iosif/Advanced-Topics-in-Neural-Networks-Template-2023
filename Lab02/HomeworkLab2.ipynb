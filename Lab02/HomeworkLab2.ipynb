{
 "cells": [
  {
   "cell_type": "markdown",
   "metadata": {},
   "source": [
    "# Assignment 2 - Perceptron"
   ]
  },
  {
   "cell_type": "markdown",
   "metadata": {},
   "source": [
    "## Exercise\n",
    "\n",
    "Given an input tensor X of shape (m, 784), where m is the number of examples\n",
    "and 784 is the number of features (input neurons), a weight tensor W of shape\n",
    "(784, 10), and a bias tensor b of shape (10,), compute the output of the network\n",
    "for each example in the batch, calculate the error, and update the weights and\n",
    "biases accordingly."
   ]
  },
  {
   "cell_type": "code",
   "execution_count": 65,
   "metadata": {},
   "outputs": [],
   "source": [
    "import torch"
   ]
  },
  {
   "cell_type": "markdown",
   "metadata": {},
   "source": [
    "Activation function = sigmoid function"
   ]
  },
  {
   "cell_type": "code",
   "execution_count": 66,
   "metadata": {},
   "outputs": [],
   "source": [
    "def sigmoid(x):\n",
    "    return 1 / (1 + torch.exp(-x))"
   ]
  },
  {
   "cell_type": "markdown",
   "metadata": {},
   "source": [
    "The derivative of the sigmoid function\n"
   ]
  },
  {
   "cell_type": "code",
   "execution_count": 67,
   "metadata": {},
   "outputs": [],
   "source": [
    "def sigmoid_derivative(x):\n",
    "    return x * (1 - x)"
   ]
  },
  {
   "cell_type": "markdown",
   "metadata": {},
   "source": [
    "Write a Python function named train perceptron that takes X, W, b, y true\n",
    "(the true labels), and mu (the learning rate) as inputs and returns the updated\n",
    "weights and biases after applying both forward and backward propagation steps."
   ]
  },
  {
   "cell_type": "code",
   "execution_count": 68,
   "metadata": {},
   "outputs": [],
   "source": [
    "\n",
    "def train_perceptron(X, W, b, y_true, mu):\n",
    "\n",
    "    # Forward propagation\n",
    "    Z = torch.matmul(X, W) + b\n",
    "    y_pred = sigmoid(Z) # Y_prediction\n",
    "\n",
    "    # Calculate error\n",
    "    error = y_true - y_pred\n",
    "\n",
    "    # Backward propagation\n",
    "    dy_pred = error * sigmoid_derivative(y_pred)\n",
    "    dW = torch.matmul(X.T, dy_pred)   \n",
    "    db = torch.sum(dy_pred, dim=0)\n",
    "\n",
    "    #Update weights and biases\n",
    "    W = W + mu * dW\n",
    "    b = b + mu * db\n",
    "\n",
    "    return W,b\n"
   ]
  },
  {
   "cell_type": "markdown",
   "metadata": {},
   "source": [
    "- X: A 2D PyTorch tensor of shape (m, 784) containing the input features\n",
    "- W: A 2D PyTorch tensor of shape (784, 10) containing the initial weights for the 10 perceptrons.\n",
    "- b: A 1D PyTorch tensor of shape (10,) containing the initial biases for the 10 perceptrons.\n",
    "- y true: A 2D PyTorch tensor of shape (m, 10) containing the true labels for each of the m examples.\n",
    "- mu: A float representing the learning rate."
   ]
  },
  {
   "cell_type": "code",
   "execution_count": 69,
   "metadata": {},
   "outputs": [],
   "source": [
    "# Example Usage\n",
    "m = 1  # Number of examples\n",
    "n_inputs = 784\n",
    "n_outputs = 10"
   ]
  },
  {
   "cell_type": "code",
   "execution_count": 70,
   "metadata": {},
   "outputs": [],
   "source": [
    "# Initialize random input, weights, biases, and true labels (0 or 1 for simplicity)\n",
    "X = torch.rand((m, n_inputs)) \n",
    "W = torch.rand((n_inputs, n_outputs))\n",
    "b = torch.rand((n_outputs,))\n",
    "y_true = torch.randint(2, (m, n_outputs)).float()\n",
    "mu = 0.01"
   ]
  },
  {
   "cell_type": "code",
   "execution_count": 71,
   "metadata": {},
   "outputs": [],
   "source": [
    "# Train the perceptron\n",
    "W, b = train_perceptron(X, W, b, y_true, mu)"
   ]
  },
  {
   "cell_type": "code",
   "execution_count": 72,
   "metadata": {},
   "outputs": [],
   "source": [
    "# Perform multiple epochs of training\n",
    "num_epochs = 1000\n",
    "for epoch in range(num_epochs):\n",
    "    W, b = train_perceptron(X, W, b, y_true, mu)"
   ]
  },
  {
   "cell_type": "code",
   "execution_count": 73,
   "metadata": {},
   "outputs": [
    {
     "name": "stdout",
     "output_type": "stream",
     "text": [
      "tensor([[0.7843, 0.1468, 0.8887,  ..., 0.8562, 0.8415, 0.7061],\n",
      "        [0.1024, 0.9148, 0.8114,  ..., 0.0350, 0.1300, 0.8546],\n",
      "        [0.4367, 0.8223, 0.5734,  ..., 0.9211, 0.7102, 0.4785],\n",
      "        ...,\n",
      "        [0.0453, 0.4569, 0.4895,  ..., 0.8321, 0.4848, 0.0270],\n",
      "        [0.4836, 0.2888, 0.7145,  ..., 0.3558, 0.3413, 0.2327],\n",
      "        [0.7077, 0.1726, 0.9730,  ..., 0.4158, 0.2398, 0.0315]])\n",
      "tensor([0.4814, 0.9189, 0.0692, 0.1991, 0.4397, 0.5098, 0.3682, 0.4321, 0.9452,\n",
      "        0.6864])\n"
     ]
    }
   ],
   "source": [
    "print(W)\n",
    "print(b)"
   ]
  }
 ],
 "metadata": {
  "kernelspec": {
   "display_name": "golden_scenario_env.yml",
   "language": "python",
   "name": "python3"
  },
  "language_info": {
   "codemirror_mode": {
    "name": "ipython",
    "version": 3
   },
   "file_extension": ".py",
   "mimetype": "text/x-python",
   "name": "python",
   "nbconvert_exporter": "python",
   "pygments_lexer": "ipython3",
   "version": "3.11.5"
  }
 },
 "nbformat": 4,
 "nbformat_minor": 2
}
